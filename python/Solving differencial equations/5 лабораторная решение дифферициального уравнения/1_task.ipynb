{
 "cells": [
  {
   "cell_type": "code",
   "execution_count": 1,
   "metadata": {
    "pycharm": {
     "is_executing": false
    }
   },
   "outputs": [],
   "source": [
    "from lab5 import funcs"
   ]
  },
  {
   "cell_type": "code",
   "execution_count": 2,
   "metadata": {},
   "outputs": [],
   "source": [
    "import sympy as sy\n",
    "import math\n",
    "from sympy import cos, sqrt, pprint\n",
    "from lab5 import funcs\n",
    "\n",
    "x = sy.Symbol('x')\n",
    "y = sy.Symbol('y')\n",
    "\n",
    "func = 2*x*(x*x+y)\n",
    "f = lambda x0, y0: func.subs(x, x0).subs(y,y0)\n",
    "\n",
    "a, b = 1, 1.1\n",
    "# n = 10\n",
    "y0 = sy.exp(1)-2\n",
    "EPS = 1e-5\n",
    "df = []"
   ]
  },
  {
   "cell_type": "code",
   "execution_count": 3,
   "metadata": {
    "pycharm": {
     "is_executing": false,
     "name": "#%%\n"
    }
   },
   "outputs": [
    {
     "name": "stdout",
     "output_type": "stream",
     "text": [
      "\n",
      "    Тесты для n = 10\n",
      "    Погрешность явного метода Эйлера: 1.468787e-02\n",
      "    Погрешность неявного метода Эйлера: 1.459732e-02\n",
      "    Погрешность метода Хойна: 5.946004e-05\n",
      "    Погрешность метода Рунге-Кутта: 5.293551e-07\n",
      "    \n",
      "\n",
      "    Тесты для n = 100\n",
      "    Погрешность явного метода Эйлера: 5.122109e-03\n",
      "    Погрешность неявного метода Эйлера: 5.119174e-03\n",
      "    Погрешность метода Хойна: 2.077265e-06\n",
      "    Погрешность метода Рунге-Кутта: 1.851737e-09\n",
      "    \n",
      "\n",
      "    Тесты для n = 500\n",
      "    Погрешность явного метода Эйлера: 2.310010e-03\n",
      "    Погрешность неявного метода Эйлера: 2.309748e-03\n",
      "    Погрешность метода Хойна: 1.873848e-07\n",
      "    Погрешность метода Рунге-Кутта: 3.278571e-11\n",
      "    \n"
     ]
    }
   ],
   "source": [
    "y_check = -x*x+sy.exp(x*x)-1\n",
    "f_exact = lambda val: (y_check).subs(x, val)\n",
    "\n",
    "for n in [10, 100, 500]:\n",
    "    ans = funcs.evaluated_values(f, y0, a, b, n, EPS)\n",
    "\n",
    "    x_ex, y_ex = ans['explicit']\n",
    "    x_im, y_im = ans['implicit']\n",
    "    x_heun, y_heun = ans['Heun']\n",
    "    x_runge, y_runge = ans['Runge']\n",
    "\n",
    "    df.append(funcs.my_print(n, x_ex, funcs.insert_values_to_func(f_exact, x_ex), y_ex, y_im, y_heun, y_runge, EPS=EPS, print_out=False))\n",
    "\n",
    "    norms = [\n",
    "        funcs.eval_norm(x_ex, y_ex, f_exact),\n",
    "        funcs.eval_norm(x_im, y_im, f_exact),\n",
    "        funcs.eval_norm(x_heun, y_heun, f_exact),\n",
    "        funcs.eval_norm(x_runge, y_runge, f_exact),\n",
    "    ]\n",
    "\n",
    "    out = \"\"\"\n",
    "    Тесты для n = {n}\n",
    "    Погрешность явного метода Эйлера: {:e}\n",
    "    Погрешность неявного метода Эйлера: {:e}\n",
    "    Погрешность метода Хойна: {:e}\n",
    "    Погрешность метода Рунге-Кутта: {:e}\n",
    "    \"\"\".format(n=n, *norms)\n",
    "\n",
    "    print(out)"
   ]
  },
  {
   "cell_type": "code",
   "execution_count": 4,
   "metadata": {},
   "outputs": [
    {
     "data": {
      "text/html": [
       "<div>\n",
       "<style scoped>\n",
       "    .dataframe tbody tr th:only-of-type {\n",
       "        vertical-align: middle;\n",
       "    }\n",
       "\n",
       "    .dataframe tbody tr th {\n",
       "        vertical-align: top;\n",
       "    }\n",
       "\n",
       "    .dataframe thead th {\n",
       "        text-align: right;\n",
       "    }\n",
       "</style>\n",
       "<table border=\"1\" class=\"dataframe\">\n",
       "  <thead>\n",
       "    <tr style=\"text-align: right;\">\n",
       "      <th></th>\n",
       "      <th>i</th>\n",
       "      <th>x[i]</th>\n",
       "      <th>точное</th>\n",
       "      <th>Явный</th>\n",
       "      <th>Неявный</th>\n",
       "      <th>Хойне</th>\n",
       "      <th>Рунге-Кутте</th>\n",
       "    </tr>\n",
       "  </thead>\n",
       "  <tbody>\n",
       "    <tr>\n",
       "      <th>0</th>\n",
       "      <td>0</td>\n",
       "      <td>1.00</td>\n",
       "      <td>0.71828</td>\n",
       "      <td>0.71828</td>\n",
       "      <td>0.71828</td>\n",
       "      <td>0.71828</td>\n",
       "      <td>0.71828</td>\n",
       "    </tr>\n",
       "    <tr>\n",
       "      <th>1</th>\n",
       "      <td>1</td>\n",
       "      <td>1.01</td>\n",
       "      <td>0.75337</td>\n",
       "      <td>0.75265</td>\n",
       "      <td>0.75409</td>\n",
       "      <td>0.75337</td>\n",
       "      <td>0.75337</td>\n",
       "    </tr>\n",
       "    <tr>\n",
       "      <th>2</th>\n",
       "      <td>2</td>\n",
       "      <td>1.02</td>\n",
       "      <td>0.78995</td>\n",
       "      <td>0.78846</td>\n",
       "      <td>0.79143</td>\n",
       "      <td>0.78994</td>\n",
       "      <td>0.78995</td>\n",
       "    </tr>\n",
       "    <tr>\n",
       "      <th>3</th>\n",
       "      <td>3</td>\n",
       "      <td>1.03</td>\n",
       "      <td>0.82807</td>\n",
       "      <td>0.82577</td>\n",
       "      <td>0.83036</td>\n",
       "      <td>0.82806</td>\n",
       "      <td>0.82807</td>\n",
       "    </tr>\n",
       "    <tr>\n",
       "      <th>4</th>\n",
       "      <td>4</td>\n",
       "      <td>1.04</td>\n",
       "      <td>0.86779</td>\n",
       "      <td>0.86463</td>\n",
       "      <td>0.87094</td>\n",
       "      <td>0.86778</td>\n",
       "      <td>0.86779</td>\n",
       "    </tr>\n",
       "    <tr>\n",
       "      <th>5</th>\n",
       "      <td>5</td>\n",
       "      <td>1.05</td>\n",
       "      <td>0.90919</td>\n",
       "      <td>0.90511</td>\n",
       "      <td>0.91323</td>\n",
       "      <td>0.90917</td>\n",
       "      <td>0.90919</td>\n",
       "    </tr>\n",
       "    <tr>\n",
       "      <th>6</th>\n",
       "      <td>6</td>\n",
       "      <td>1.06</td>\n",
       "      <td>0.95231</td>\n",
       "      <td>0.94727</td>\n",
       "      <td>0.95731</td>\n",
       "      <td>0.95229</td>\n",
       "      <td>0.95231</td>\n",
       "    </tr>\n",
       "    <tr>\n",
       "      <th>7</th>\n",
       "      <td>7</td>\n",
       "      <td>1.07</td>\n",
       "      <td>0.99723</td>\n",
       "      <td>0.99117</td>\n",
       "      <td>1.00324</td>\n",
       "      <td>0.99720</td>\n",
       "      <td>0.99723</td>\n",
       "    </tr>\n",
       "    <tr>\n",
       "      <th>8</th>\n",
       "      <td>8</td>\n",
       "      <td>1.08</td>\n",
       "      <td>1.04401</td>\n",
       "      <td>1.03689</td>\n",
       "      <td>1.05110</td>\n",
       "      <td>1.04399</td>\n",
       "      <td>1.04401</td>\n",
       "    </tr>\n",
       "    <tr>\n",
       "      <th>9</th>\n",
       "      <td>9</td>\n",
       "      <td>1.09</td>\n",
       "      <td>1.09274</td>\n",
       "      <td>1.08448</td>\n",
       "      <td>1.10096</td>\n",
       "      <td>1.09271</td>\n",
       "      <td>1.09274</td>\n",
       "    </tr>\n",
       "  </tbody>\n",
       "</table>\n",
       "</div>"
      ],
      "text/plain": [
       "   i  x[i]   точное    Явный  Неявный    Хойне  Рунге-Кутте\n",
       "0  0  1.00  0.71828  0.71828  0.71828  0.71828      0.71828\n",
       "1  1  1.01  0.75337  0.75265  0.75409  0.75337      0.75337\n",
       "2  2  1.02  0.78995  0.78846  0.79143  0.78994      0.78995\n",
       "3  3  1.03  0.82807  0.82577  0.83036  0.82806      0.82807\n",
       "4  4  1.04  0.86779  0.86463  0.87094  0.86778      0.86779\n",
       "5  5  1.05  0.90919  0.90511  0.91323  0.90917      0.90919\n",
       "6  6  1.06  0.95231  0.94727  0.95731  0.95229      0.95231\n",
       "7  7  1.07  0.99723  0.99117  1.00324  0.99720      0.99723\n",
       "8  8  1.08  1.04401  1.03689  1.05110  1.04399      1.04401\n",
       "9  9  1.09  1.09274  1.08448  1.10096  1.09271      1.09274"
      ]
     },
     "execution_count": 4,
     "metadata": {},
     "output_type": "execute_result"
    }
   ],
   "source": [
    "d = df[0]\n",
    "d"
   ]
  },
  {
   "cell_type": "code",
   "execution_count": 6,
   "metadata": {},
   "outputs": [
    {
     "name": "stdout",
     "output_type": "stream",
     "text": [
      "   i  x[i]   точное    Явный  Неявный    Хойне  Рунге-Кутте\n",
      "0  0  1.00  0.71828  0.71828  0.71828  0.71828      0.71828\n",
      "1  1  1.01  0.75337  0.75265  0.75409  0.75337      0.75337\n",
      "2  2  1.02  0.78995  0.78846  0.79143  0.78994      0.78995\n",
      "3  3  1.03  0.82807  0.82577  0.83036  0.82806      0.82807\n",
      "4  4  1.04  0.86779  0.86463  0.87094  0.86778      0.86779\n",
      "5  5  1.05  0.90919  0.90511  0.91323  0.90917      0.90919\n",
      "6  6  1.06  0.95231  0.94727  0.95731  0.95229      0.95231\n",
      "7  7  1.07  0.99723  0.99117  1.00324  0.99720      0.99723\n",
      "8  8  1.08  1.04401  1.03689  1.05110  1.04399      1.04401\n",
      "9  9  1.09  1.09274  1.08448  1.10096  1.09271      1.09274\n"
     ]
    }
   ],
   "source": [
    "print(df[0])"
   ]
  }
 ],
 "metadata": {
  "kernelspec": {
   "display_name": "Python 3 (ipykernel)",
   "language": "python",
   "name": "python3"
  },
  "language_info": {
   "codemirror_mode": {
    "name": "ipython",
    "version": 3
   },
   "file_extension": ".py",
   "mimetype": "text/x-python",
   "name": "python",
   "nbconvert_exporter": "python",
   "pygments_lexer": "ipython3",
   "version": "3.9.7"
  },
  "pycharm": {
   "stem_cell": {
    "cell_type": "raw",
    "metadata": {
     "collapsed": false
    },
    "source": []
   }
  }
 },
 "nbformat": 4,
 "nbformat_minor": 1
}
