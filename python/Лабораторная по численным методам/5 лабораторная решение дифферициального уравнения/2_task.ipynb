{
 "cells": [
  {
   "cell_type": "code",
   "execution_count": 1,
   "metadata": {
    "pycharm": {
     "is_executing": false,
     "name": "#%%\n"
    }
   },
   "outputs": [],
   "source": [
    "from lab5 import funcs\n",
    "\n",
    "import sympy as sy\n",
    "import math\n",
    "from sympy import cos, sqrt, pprint\n",
    "from lab5 import funcs"
   ]
  },
  {
   "cell_type": "code",
   "execution_count": 1,
   "metadata": {
    "pycharm": {
     "is_executing": false
    }
   },
   "outputs": [],
   "source": []
  },
  {
   "cell_type": "code",
   "execution_count": 2,
   "metadata": {
    "pycharm": {
     "is_executing": false,
     "name": "#%%\n"
    }
   },
   "outputs": [],
   "source": [
    "x = sy.Symbol('x')\n",
    "y = sy.Symbol('y')\n",
    "z = sy.Symbol('z')\n",
    "u = sy.Symbol('u')\n",
    "\n",
    "func = [\n",
    "    z,\n",
    "    u,\n",
    "    ((6*x-7)*u - 4*x*z + 4*y) / (2*x - 3),\n",
    "]\n",
    "\n",
    "beg_cond = [\n",
    "    8.16,\n",
    "    6.25,\n",
    "    2.07,\n",
    "]\n",
    "\n",
    "f = lambda x0, y0, z0, u0, number: func[number].subs(x, x0).subs(y, y0).subs(z, z0).subs(u, u0)\n",
    "\n",
    "a, b = 0, 0.75\n",
    "n = 500\n",
    "EPS = 1e-5\n",
    "df = []"
   ]
  },
  {
   "cell_type": "code",
   "execution_count": 3,
   "metadata": {
    "pycharm": {
     "is_executing": false,
     "name": "#%% \n"
    }
   },
   "outputs": [],
   "source": [
    "y_check = 0.12*x + 10.19*sy.exp(x) - 2.03*sy.exp(2*x)\n",
    "f_exact = lambda val: (y_check).subs(x, val)"
   ]
  },
  {
   "cell_type": "code",
   "execution_count": 4,
   "metadata": {
    "pycharm": {
     "is_executing": false,
     "name": "#%%\n"
    }
   },
   "outputs": [
    {
     "name": "stdout",
     "text": [
      "0.19999999999999996 0.4 0.4 0.4636256939080242 0.7863743060919757 0.4636256939080242 -0.11233918658456744 0.8987134926765435\n",
      "Тесты для n = 10\n",
      "Погрешность метода Рунге-Кутта: 7.387942e-01\n",
      "0.19999999999999996 0.4 0.4 0.4636256939080242 0.7863743060919757 0.4636256939080242 -0.11233918658456744 0.8987134926765435\n",
      "Тесты для n = 100\n",
      "Погрешность метода Рунге-Кутта: 2.285223e-01\n",
      "0.19999999999999996 0.4 0.4 0.4636256939080242 0.7863743060919757 0.4636256939080242 -0.11233918658456744 0.8987134926765435\n",
      "Тесты для n = 500\n",
      "Погрешность метода Рунге-Кутта: 1.019941e-01\n"
     ],
     "output_type": "stream"
    }
   ],
   "source": [
    "for n in [10, 100, 500]:\n",
    "    xx, ans = funcs.Runge_system(f, beg_cond, a, b, n, EPS)\n",
    "\n",
    "    df.append(funcs.system_solve_print(n, xx, funcs.insert_values_to_func(f_exact, xx, EPS), ans, EPS, print_out=False))\n",
    "\n",
    "    print(\"Тесты для n = %d\\nПогрешность метода Рунге-Кутта: %e\" %(n, funcs.eval_norm(xx, ans, f_exact)))"
   ]
  },
  {
   "cell_type": "code",
   "execution_count": 5,
   "metadata": {
    "pycharm": {
     "is_executing": false,
     "name": "#%%\n"
    }
   },
   "outputs": [
    {
     "data": {
      "text/plain": "   i     x[i]    точное  Рунге-Кутте\n0  0  0.00000   8.16000      8.16000\n1  1  0.08333   8.68739      8.63415\n2  2  0.16667   9.22497      9.11695\n3  3  0.25000   9.76731      9.60463\n4  4  0.33333  10.30739     10.09237\n5  5  0.41667  10.83620     10.57418\n6  6  0.50000  11.34236     11.04258\n7  7  0.58333  11.81162     11.48842\n8  8  0.66667  12.22626     11.90050\n9  9  0.75000  12.56440     12.26523",
      "text/html": "<div>\n<style scoped>\n    .dataframe tbody tr th:only-of-type {\n        vertical-align: middle;\n    }\n\n    .dataframe tbody tr th {\n        vertical-align: top;\n    }\n\n    .dataframe thead th {\n        text-align: right;\n    }\n</style>\n<table border=\"1\" class=\"dataframe\">\n  <thead>\n    <tr style=\"text-align: right;\">\n      <th></th>\n      <th>i</th>\n      <th>x[i]</th>\n      <th>точное</th>\n      <th>Рунге-Кутте</th>\n    </tr>\n  </thead>\n  <tbody>\n    <tr>\n      <th>0</th>\n      <td>0</td>\n      <td>0.00000</td>\n      <td>8.16000</td>\n      <td>8.16000</td>\n    </tr>\n    <tr>\n      <th>1</th>\n      <td>1</td>\n      <td>0.08333</td>\n      <td>8.68739</td>\n      <td>8.63415</td>\n    </tr>\n    <tr>\n      <th>2</th>\n      <td>2</td>\n      <td>0.16667</td>\n      <td>9.22497</td>\n      <td>9.11695</td>\n    </tr>\n    <tr>\n      <th>3</th>\n      <td>3</td>\n      <td>0.25000</td>\n      <td>9.76731</td>\n      <td>9.60463</td>\n    </tr>\n    <tr>\n      <th>4</th>\n      <td>4</td>\n      <td>0.33333</td>\n      <td>10.30739</td>\n      <td>10.09237</td>\n    </tr>\n    <tr>\n      <th>5</th>\n      <td>5</td>\n      <td>0.41667</td>\n      <td>10.83620</td>\n      <td>10.57418</td>\n    </tr>\n    <tr>\n      <th>6</th>\n      <td>6</td>\n      <td>0.50000</td>\n      <td>11.34236</td>\n      <td>11.04258</td>\n    </tr>\n    <tr>\n      <th>7</th>\n      <td>7</td>\n      <td>0.58333</td>\n      <td>11.81162</td>\n      <td>11.48842</td>\n    </tr>\n    <tr>\n      <th>8</th>\n      <td>8</td>\n      <td>0.66667</td>\n      <td>12.22626</td>\n      <td>11.90050</td>\n    </tr>\n    <tr>\n      <th>9</th>\n      <td>9</td>\n      <td>0.75000</td>\n      <td>12.56440</td>\n      <td>12.26523</td>\n    </tr>\n  </tbody>\n</table>\n</div>"
     },
     "metadata": {},
     "output_type": "execute_result",
     "execution_count": 5
    }
   ],
   "source": [
    "df[0]"
   ]
  },
  {
   "cell_type": "code",
   "execution_count": 6,
   "metadata": {
    "pycharm": {
     "is_executing": false
    }
   },
   "outputs": [
    {
     "data": {
      "text/plain": "array([0.        , 0.08333333, 0.16666667, 0.25      , 0.33333333,\n       0.41666667, 0.5       , 0.58333333, 0.66666667, 0.75      ])"
     },
     "metadata": {},
     "output_type": "execute_result",
     "execution_count": 6
    }
   ],
   "source": [
    "import numpy as np\n",
    "np.linspace(0, 0.75, 10)"
   ]
  },
  {
   "cell_type": "code",
   "execution_count": 7,
   "metadata": {
    "pycharm": {
     "is_executing": false
    }
   },
   "outputs": [
    {
     "name": "stdout",
     "text": [
      "0.19999999999999996 0.4 0.4 0.4636256939080242 0.7863743060919757 0.4636256939080242 -0.11233918658456744 0.8987134926765435\n",
      "Тесты для n = 10\n",
      "Погрешность метода Рунге-Кутта: 7.387942e-01\n",
      "0.19999999999999996 0.4 0.4 0.4636256939080242 0.7863743060919757 0.4636256939080242 -0.11233918658456744 0.8987134926765435\n",
      "Тесты для n = 100\n",
      "Погрешность метода Рунге-Кутта: 2.285223e-01\n"
     ],
     "output_type": "stream"
    }
   ],
   "source": [
    "for n in [10, 100]:\n",
    "    xx, ans = funcs.Runge_system(f, beg_cond, a, b, n, EPS)\n",
    "\n",
    "    df.append(funcs.system_solve_print(n, xx, funcs.insert_values_to_func(f_exact, xx, EPS), ans, EPS, print_out=False))\n",
    "\n",
    "    print(\"Тесты для n = %d\\nПогрешность метода Рунге-Кутта: %e\" %(n, funcs.eval_norm(xx, ans, f_exact)))"
   ]
  }
 ],
 "metadata": {
  "kernelspec": {
   "display_name": "Python 3 (ipykernel)",
   "language": "python",
   "name": "python3"
  },
  "language_info": {
   "codemirror_mode": {
    "name": "ipython",
    "version": 3
   },
   "file_extension": ".py",
   "mimetype": "text/x-python",
   "name": "python",
   "nbconvert_exporter": "python",
   "pygments_lexer": "ipython3",
   "version": "3.9.7"
  },
  "pycharm": {
   "stem_cell": {
    "cell_type": "raw",
    "metadata": {
     "collapsed": false
    },
    "source": []
   }
  }
 },
 "nbformat": 4,
 "nbformat_minor": 1
}